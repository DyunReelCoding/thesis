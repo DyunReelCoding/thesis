{
 "cells": [
  {
   "cell_type": "code",
   "execution_count": 1,
   "metadata": {
    "metadata": {}
   },
   "outputs": [],
   "source": [
    "import matplotlib.pyplot as plt\n",
    "import pandas as pd\n",
    "import lightgbm as lgb\n",
    "from sklearn.model_selection import train_test_split, cross_val_score\n",
    "from sklearn.datasets import make_classification\n",
    "from sklearn.metrics import classification_report, confusion_matrix\n",
    "from mlxtend.plotting import plot_confusion_matrix\n",
    "import joblib\n",
    "\n",
    "# Detect Ransomware, Phishing, and Trojan."
   ]
  },
  {
   "cell_type": "code",
   "execution_count": 2,
   "metadata": {
    "metadata": {}
   },
   "outputs": [],
   "source": [
    "# Load the dataset\n",
    "df3 = pd.read_csv(\"./datasets/Trojan_Detection.csv\")\n",
    "df3\n",
    "# Remove leading underscores and replace special characters with underscores in column names\n",
    "df3.columns = df3.columns.str.lstrip('_').str.replace('[^a-zA-Z0-9]', '_', regex=True)"
   ]
  },
  {
   "cell_type": "code",
   "execution_count": 3,
   "metadata": {
    "metadata": {}
   },
   "outputs": [
    {
     "name": "stdout",
     "output_type": "stream",
     "text": [
      "Index(['Unnamed__0', 'Flow_ID', '_Source_IP', '_Source_Port',\n",
      "       '_Destination_IP', '_Destination_Port', '_Protocol', '_Timestamp',\n",
      "       '_Flow_Duration', '_Total_Fwd_Packets', '_Total_Backward_Packets',\n",
      "       'Total_Length_of_Fwd_Packets', '_Total_Length_of_Bwd_Packets',\n",
      "       '_Fwd_Packet_Length_Max', '_Fwd_Packet_Length_Min',\n",
      "       '_Fwd_Packet_Length_Mean', '_Fwd_Packet_Length_Std',\n",
      "       'Bwd_Packet_Length_Max', '_Bwd_Packet_Length_Min',\n",
      "       '_Bwd_Packet_Length_Mean', '_Bwd_Packet_Length_Std', 'Flow_Bytes_s',\n",
      "       '_Flow_Packets_s', '_Flow_IAT_Mean', '_Flow_IAT_Std', '_Flow_IAT_Max',\n",
      "       '_Flow_IAT_Min', 'Fwd_IAT_Total', '_Fwd_IAT_Mean', '_Fwd_IAT_Std',\n",
      "       '_Fwd_IAT_Max', '_Fwd_IAT_Min', 'Bwd_IAT_Total', '_Bwd_IAT_Mean',\n",
      "       '_Bwd_IAT_Std', '_Bwd_IAT_Max', '_Bwd_IAT_Min', 'Fwd_PSH_Flags',\n",
      "       '_Bwd_PSH_Flags', '_Fwd_URG_Flags', '_Bwd_URG_Flags',\n",
      "       '_Fwd_Header_Length', '_Bwd_Header_Length', 'Fwd_Packets_s',\n",
      "       '_Bwd_Packets_s', '_Min_Packet_Length', '_Max_Packet_Length',\n",
      "       '_Packet_Length_Mean', '_Packet_Length_Std', '_Packet_Length_Variance',\n",
      "       'FIN_Flag_Count', '_SYN_Flag_Count', '_RST_Flag_Count',\n",
      "       '_PSH_Flag_Count', '_ACK_Flag_Count', '_URG_Flag_Count',\n",
      "       '_CWE_Flag_Count', '_ECE_Flag_Count', '_Down_Up_Ratio',\n",
      "       '_Average_Packet_Size', '_Avg_Fwd_Segment_Size',\n",
      "       '_Avg_Bwd_Segment_Size', '_Fwd_Header_Length_1', 'Fwd_Avg_Bytes_Bulk',\n",
      "       '_Fwd_Avg_Packets_Bulk', '_Fwd_Avg_Bulk_Rate', '_Bwd_Avg_Bytes_Bulk',\n",
      "       '_Bwd_Avg_Packets_Bulk', 'Bwd_Avg_Bulk_Rate', 'Subflow_Fwd_Packets',\n",
      "       '_Subflow_Fwd_Bytes', '_Subflow_Bwd_Packets', '_Subflow_Bwd_Bytes',\n",
      "       'Init_Win_bytes_forward', '_Init_Win_bytes_backward',\n",
      "       '_act_data_pkt_fwd', '_min_seg_size_forward', 'Active_Mean',\n",
      "       '_Active_Std', '_Active_Max', '_Active_Min', 'Idle_Mean', '_Idle_Std',\n",
      "       '_Idle_Max', '_Idle_Min', 'Class'],\n",
      "      dtype='object')\n"
     ]
    }
   ],
   "source": [
    "# Check the column names to verify spelling and case\n",
    "print(df3.columns)"
   ]
  },
  {
   "cell_type": "code",
   "execution_count": 6,
   "metadata": {
    "metadata": {}
   },
   "outputs": [
    {
     "name": "stdout",
     "output_type": "stream",
     "text": [
      "[LightGBM] [Info] Number of positive: 72623, number of negative: 69362\n",
      "[LightGBM] [Info] Auto-choosing col-wise multi-threading, the overhead of testing was 0.042768 seconds.\n",
      "You can set `force_col_wise=true` to remove the overhead.\n",
      "[LightGBM] [Info] Total Bins 14828\n",
      "[LightGBM] [Info] Number of data points in the train set: 141985, number of used features: 69\n",
      "[LightGBM] [Info] [binary:BoostFromScore]: pavg=0.511484 -> initscore=0.045943\n",
      "[LightGBM] [Info] Start training from score 0.045943\n",
      "[LightGBM] [Warning] No further splits with positive gain, best gain: -inf\n",
      "[LightGBM] [Warning] No further splits with positive gain, best gain: -inf\n",
      "[LightGBM] [Warning] No further splits with positive gain, best gain: -inf\n",
      "[LightGBM] [Warning] No further splits with positive gain, best gain: -inf\n",
      "[LightGBM] [Warning] No further splits with positive gain, best gain: -inf\n",
      "[LightGBM] [Warning] No further splits with positive gain, best gain: -inf\n",
      "[LightGBM] [Warning] No further splits with positive gain, best gain: -inf\n",
      "[LightGBM] [Warning] No further splits with positive gain, best gain: -inf\n",
      "[LightGBM] [Warning] No further splits with positive gain, best gain: -inf\n",
      "[LightGBM] [Warning] No further splits with positive gain, best gain: -inf\n",
      "[LightGBM] [Warning] No further splits with positive gain, best gain: -inf\n",
      "[LightGBM] [Warning] No further splits with positive gain, best gain: -inf\n",
      "[LightGBM] [Warning] No further splits with positive gain, best gain: -inf\n",
      "[LightGBM] [Warning] No further splits with positive gain, best gain: -inf\n",
      "[LightGBM] [Warning] No further splits with positive gain, best gain: -inf\n",
      "[LightGBM] [Warning] No further splits with positive gain, best gain: -inf\n",
      "[LightGBM] [Warning] No further splits with positive gain, best gain: -inf\n",
      "[LightGBM] [Warning] No further splits with positive gain, best gain: -inf\n",
      "[LightGBM] [Warning] No further splits with positive gain, best gain: -inf\n",
      "[LightGBM] [Warning] No further splits with positive gain, best gain: -inf\n",
      "[LightGBM] [Warning] No further splits with positive gain, best gain: -inf\n",
      "[LightGBM] [Warning] No further splits with positive gain, best gain: -inf\n",
      "[LightGBM] [Warning] No further splits with positive gain, best gain: -inf\n",
      "[LightGBM] [Warning] No further splits with positive gain, best gain: -inf\n"
     ]
    },
    {
     "data": {
      "text/plain": [
       "['./trained_model/LGBM_model.pkl']"
      ]
     },
     "execution_count": 6,
     "metadata": {},
     "output_type": "execute_result"
    }
   ],
   "source": [
    "# Remove columns with special characters from feature names\n",
    "columns_to_drop = ['Class', 'Flow_ID', '_Source_IP', '_Destination_IP', '_Timestamp']\n",
    "x3 = df3.drop(columns=columns_to_drop)\n",
    "y3 = df3['Class']\n",
    "\n",
    "# Split the dataset into training and testing sets\n",
    "x3_train, x3_test, y3_train, y3_test = train_test_split(x3, y3, test_size=0.2, random_state=42)\n",
    "\n",
    "# Define the LightGBM classifier\n",
    "clf = lgb.LGBMClassifier()\n",
    "\n",
    "# Train the classifier on the training data\n",
    "clf.fit(x3_train, y3_train)\n",
    "\n",
    "# Save the trained model to a file\n",
    "joblib.dump(clf, './trained_model/LGBM_model.pkl')"
   ]
  },
  {
   "cell_type": "code",
   "execution_count": 7,
   "metadata": {
    "metadata": {}
   },
   "outputs": [
    {
     "name": "stdout",
     "output_type": "stream",
     "text": [
      "Accuracy: 0.9999154858157028\n",
      "Classification Report:\n",
      "              precision    recall  f1-score   support\n",
      "\n",
      "      Benign       1.00      1.00      1.00     17437\n",
      "      Trojan       1.00      1.00      1.00     18060\n",
      "\n",
      "    accuracy                           1.00     35497\n",
      "   macro avg       1.00      1.00      1.00     35497\n",
      "weighted avg       1.00      1.00      1.00     35497\n",
      "\n"
     ]
    },
    {
     "data": {
      "image/png": "[encoded data removed]",
      "text/plain": [
       "<Figure size 600x600 with 1 Axes>"
      ]
     },
     "metadata": {},
     "output_type": "display_data"
    }
   ],
   "source": [
    "\n",
    "# Evaluate the model's performance on the testing data\n",
    "accuracy = clf.score(x3_test, y3_test)\n",
    "print(\"Accuracy:\", accuracy)\n",
    "\n",
    "# Generate classification report\n",
    "y3_pred = clf.predict(x3_test)\n",
    "print(\"Classification Report:\")\n",
    "print(classification_report(y3_test, y3_pred))\n",
    "\n",
    "cm3=confusion_matrix(y3_test, y3_pred)\n",
    "fig, ax = plot_confusion_matrix(conf_mat=cm3 , figsize=(6, 6), cmap=plt.cm.Greens)\n",
    "plt.xlabel('Predictions', fontsize=18)\n",
    "plt.ylabel('Actuals', fontsize=18)\n",
    "plt.title('Confusion Matrix', fontsize=18)\n",
    "plt.show()"
   ]
  },
  {
   "cell_type": "code",
   "execution_count": 8,
   "metadata": {
    "metadata": {}
   },
   "outputs": [
    {
     "name": "stdout",
     "output_type": "stream",
     "text": [
      "Accuracy: 0.9999154858157028\n",
      "Classification Report:\n",
      "              precision    recall  f1-score   support\n",
      "\n",
      "      Benign       1.00      1.00      1.00     17437\n",
      "      Trojan       1.00      1.00      1.00     18060\n",
      "\n",
      "    accuracy                           1.00     35497\n",
      "   macro avg       1.00      1.00      1.00     35497\n",
      "weighted avg       1.00      1.00      1.00     35497\n",
      "\n"
     ]
    },
    {
     "data": {
      "image/png": "[encoded data removed]",
      "text/plain": [
       "<Figure size 600x600 with 1 Axes>"
      ]
     },
     "metadata": {},
     "output_type": "display_data"
    }
   ],
   "source": [
    "# Split the dataset into training and testing sets\n",
    "x3_train, x3_test, y3_train, y3_test = train_test_split(x3, y3, test_size=0.2, random_state=42)\n",
    "\n",
    "# Load the trained LightGBM model\n",
    "loaded_model = joblib.load('./trained_model/LGBM_model.pkl')  # Load the model from the saved file\n",
    "\n",
    "# Evaluate the model's performance on the testing data\n",
    "accuracy = clf.score(x3_test, y3_test)\n",
    "print(\"Accuracy:\", accuracy)\n",
    "\n",
    "# Make predictions using the loaded model on the testing data\n",
    "y3_pred = loaded_model.predict(x3_test)\n",
    "\n",
    "# Print classification report\n",
    "print(\"Classification Report:\")\n",
    "print(classification_report(y3_test, y3_pred))\n",
    "\n",
    "# Plot confusion matrix\n",
    "cm3=confusion_matrix(y3_test, y3_pred)\n",
    "\n",
    "fig, ax = plot_confusion_matrix(conf_mat=cm3 , figsize=(6, 6), cmap=plt.cm.Greens)\n",
    "plt.xlabel('Predictions', fontsize=18)\n",
    "plt.ylabel('Actuals', fontsize=18)\n",
    "plt.title('Confusion Matrix', fontsize=18)\n",
    "plt.show()"
   ]
  }
 ],
 "metadata": {
  "kernelspec": {
   "display_name": "Python 3",
   "language": "python",
   "name": "python3"
  },
  "language_info": {
   "codemirror_mode": {
    "name": "ipython",
    "version": 3
   },
   "file_extension": ".py",
   "mimetype": "text/x-python",
   "name": "python",
   "nbconvert_exporter": "python",
   "pygments_lexer": "ipython3",
   "version": "3.12.2"
  }
 },
 "nbformat": 4,
 "nbformat_minor": 2
}
